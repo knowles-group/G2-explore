{
 "cells": [
  {
   "cell_type": "code",
   "execution_count": 1,
   "metadata": {
    "collapsed": true
   },
   "outputs": [],
   "source": [
    "import pymolpro\n",
    "import os"
   ]
  },
  {
   "cell_type": "code",
   "execution_count": 2,
   "outputs": [],
   "source": [
    "xyzdir = 'G2-molecule-selection'\n",
    "projectdir = 'Molpro projects'\n",
    "if not os.path.isdir(projectdir):\n",
    "    os.mkdir(projectdir)\n",
    "molecules = []\n",
    "for file in os.listdir(xyzdir):\n",
    "    if file.endswith(\".xyz\"):\n",
    "        molecules.append(file[:-4])\n"
   ],
   "metadata": {
    "collapsed": false
   }
  },
  {
   "cell_type": "code",
   "execution_count": 3,
   "outputs": [],
   "source": [
    "bases = ['cc-pVDZ',\n",
    "         'cc-pVTZ',\n",
    "         ]\n",
    "methods = {\n",
    "    'UHF': 'uhf',\n",
    "    'RHF': 'rhf',\n",
    "    'UMP2': 'uhf;ump2',\n",
    "    'RMP2': 'rhf;rmp2',\n",
    "}"
   ],
   "metadata": {
    "collapsed": false
   }
  },
  {
   "cell_type": "code",
   "execution_count": 10,
   "outputs": [],
   "source": [
    "projects = {}\n",
    "\n",
    "\n",
    "def project_name(molecule, method, basis):\n",
    "    return molecule + \"-\" + method + \"-\" + basis\n",
    "\n",
    "\n",
    "for basis in bases:\n",
    "    for method_name, method_implementation in methods.items():\n",
    "        for molecule in molecules:\n",
    "            name = project_name(molecule, method_name, basis)\n",
    "            projects[name] = pymolpro.Project(name, location=projectdir)\n",
    "            with open(os.path.join(xyzdir, molecule + \".xyz\"), 'r') as initial_xyz:\n",
    "                with open(molecule + \".xyz\", 'w') as final_xyz:\n",
    "                    for l in initial_xyz.readlines():\n",
    "                        final_xyz.write(' '.join(l.split()[:4]) + '\\n')\n",
    "            projects[name].import_file(molecule + \".xyz\")\n",
    "            os.remove(molecule + \".xyz\")\n",
    "            projects[name].write_input(f\"\"\"\n",
    "      geometry={molecule}.xyz\n",
    "      basis,{basis}\n",
    "      {method_implementation}\n",
    "      \"\"\")"
   ],
   "metadata": {
    "collapsed": false
   }
  },
  {
   "cell_type": "code",
   "execution_count": 5,
   "outputs": [],
   "source": [
    "from multiprocessing.dummy import Pool\n",
    "from operator import methodcaller\n",
    "\n",
    "with Pool(processes=8) as pool:\n",
    "    pool.map(methodcaller('run', backend='local', wait=True),\n",
    "             projects.values(), 1)\n",
    "\n",
    "assert pymolpro.all_completed(projects.values()) and pymolpro.no_errors(projects.values())"
   ],
   "metadata": {
    "collapsed": false
   }
  },
  {
   "cell_type": "code",
   "execution_count": 6,
   "outputs": [
    {
     "name": "stdout",
     "output_type": "stream",
     "text": [
      "                UHF         RHF        UMP2        RMP2\n",
      "cc-pVDZ                                                \n",
      "h2coh   -114.423204 -114.418839 -114.728507 -114.726455\n",
      "no      -129.261309 -129.254714 -129.565601 -129.565890\n",
      "ch       -38.272603  -38.268778  -38.358035  -38.355752\n",
      "c2h5     -78.604144  -78.599732  -78.875873  -78.873855\n",
      "oh       -75.393383  -75.389528  -75.541284  -75.538779\n",
      "ch2      -38.863227  -38.863227  -38.978799  -38.978799\n",
      "ch3      -39.563800  -39.559635  -39.694458  -39.692408\n",
      "c2h3     -77.396709  -77.389499  -77.626734  -77.632298\n",
      "c3h7    -117.645517 -117.640999 -118.059438 -118.057492\n",
      "clo     -534.255979 -534.250303 -534.530142 -534.526933\n",
      "sih3    -290.625045 -290.623591 -290.728152 -290.727212\n",
      "on2     -183.682275 -183.682275 -184.200533 -184.200532\n",
      "so      -472.279567 -472.330077 -472.594344 -472.627011\n",
      "ch3o    -114.423579 -114.419647 -114.728754 -114.726760\n",
      "nh2      -55.566996  -55.562735  -55.711701  -55.709257\n",
      "sh      -398.088958 -398.084727 -398.202010 -398.200035\n",
      "beh      -15.149803  -15.149452  -15.181793  -15.181450\n",
      "no2     -204.041107 -204.031871 -204.562184 -204.562518\n",
      "ph2     -341.872117 -341.867576 -341.984484 -341.982542\n",
      "c2h      -76.157217  -76.141004  -76.344587  -76.363491\n",
      "cho     -113.257195 -113.251882 -113.545573 -113.543740\n",
      "                UHF         RHF        UMP2        RMP2\n",
      "cc-pVTZ                                                \n",
      "h2coh   -114.461630 -114.456854 -114.852130 -114.850197\n",
      "no      -129.297703 -129.290196 -129.682504 -129.682716\n",
      "ch       -38.281341  -38.276901  -38.390020  -38.387789\n",
      "c2h5     -78.627981  -78.623201  -78.965414  -78.963663\n",
      "oh       -75.418634  -75.413818  -75.618092  -75.615343\n",
      "ch2      -38.876248  -38.876248  -39.023322  -39.023322\n",
      "ch3      -39.577493  -39.572968  -39.741421  -39.739635\n",
      "c2h3     -77.419207  -77.411948  -77.706787  -77.713142\n",
      "c3h7    -117.679455 -117.674594 -118.191492 -118.189801\n",
      "clo     -534.303365 -534.296238 -534.679734 -534.675929\n",
      "sih3    -290.640332 -290.638684 -290.767876 -290.766894\n",
      "on2     -183.734312 -183.734312 -184.369403 -184.369403\n",
      "so      -472.330542 -472.380432 -472.734476 -472.765042\n",
      "ch3o    -114.461997 -114.457678 -114.852328 -114.850395\n",
      "nh2      -55.585815  -55.580928  -55.772771  -55.770405\n",
      "sh      -398.104992 -398.099443 -398.259075 -398.257062\n",
      "beh      -15.152435  -15.152072  -15.190658  -15.190312\n",
      "no2     -204.102541 -204.092834 -204.753005 -204.753388\n",
      "ph2     -341.887013 -341.881552 -342.031013 -342.029348\n",
      "c2h      -76.177290  -76.161059  -76.411186  -76.432818\n",
      "cho     -113.290548 -113.284840 -113.652568 -113.650646\n"
     ]
    }
   ],
   "source": [
    "import pandas\n",
    "\n",
    "for basis in bases:\n",
    "    df = pandas.DataFrame({\n",
    "        method: {molecule: projects[project_name(molecule, method, basis)].energies()[-1] for molecule in molecules} for\n",
    "        method in methods.keys()\n",
    "    })\n",
    "    df.index.name = basis\n",
    "    print(df)\n"
   ],
   "metadata": {
    "collapsed": false
   }
  },
  {
   "cell_type": "code",
   "execution_count": 7,
   "outputs": [],
   "source": [
    "\n",
    "# [(name, project.errors()) for name, project in projects.items()]\n"
   ],
   "metadata": {
    "collapsed": false
   }
  },
  {
   "cell_type": "code",
   "execution_count": 8,
   "outputs": [],
   "source": [
    "# print(projects['sh-UMP2-cc-pVDZ'].errors())"
   ],
   "metadata": {
    "collapsed": false
   }
  },
  {
   "cell_type": "code",
   "execution_count": 9,
   "outputs": [],
   "source": [
    "# print(projects['sh-UMP2-cc-pVDZ'].out)"
   ],
   "metadata": {
    "collapsed": false
   }
  },
  {
   "cell_type": "code",
   "execution_count": 9,
   "outputs": [],
   "source": [],
   "metadata": {
    "collapsed": false
   }
  }
 ],
 "metadata": {
  "kernelspec": {
   "name": "conda-env-pymolpro-conda-py",
   "language": "python",
   "display_name": "Python [conda env:pymolpro-conda]"
  },
  "language_info": {
   "codemirror_mode": {
    "name": "ipython",
    "version": 2
   },
   "file_extension": ".py",
   "mimetype": "text/x-python",
   "name": "python",
   "nbconvert_exporter": "python",
   "pygments_lexer": "ipython2",
   "version": "2.7.6"
  }
 },
 "nbformat": 4,
 "nbformat_minor": 0
}
